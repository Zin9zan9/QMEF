{
 "cells": [
  {
   "cell_type": "code",
   "execution_count": null,
   "metadata": {},
   "outputs": [],
   "source": [
    "import pandas as pd\n",
    "from datetime import datetime as dt\n",
    "import matplotlib as mpl\n",
    "import matplotlib.pyplot as plt\n",
    "import numpy as np"
   ]
  },
  {
   "cell_type": "code",
   "execution_count": null,
   "metadata": {},
   "outputs": [],
   "source": [
    "# https://www.cryptoarchive.com.au/asset/DOGE --> Doge EUR\n",
    "folderpath = \"../../Data/QMEF/\"\n",
    "\n",
    "df = pd.read_csv(folderpath + 'BTCUSDT.csv', sep='|', header=None)\n",
    "\n",
    "# https://www.cryptoarchive.com.au/faq\n",
    "df.columns = ['timestamp', 'Open', 'High', 'Low', 'Close', 'Volume', 'Taker Buy Quote Asset Volume', \n",
    "                'Taker Buy Base Asset Volume', 'Quote Asset Volume', 'Number of trades']\n",
    "# Quote Asset Volume verwenden. Volume ist im Verhältnis zu BTC.\n",
    "\n",
    "df"
   ]
  },
  {
   "cell_type": "code",
   "execution_count": null,
   "metadata": {},
   "outputs": [],
   "source": [
    "# Ich muss in der Tweet-Analyse nochmal mit neuen Keywords die Bitcoin-Tweets finden und separat abspeichern.\n",
    "# // TODO: Bitcoin-Tweets speichern.\n",
    "\n",
    "df_tweets = pd.read_csv(\"../../Data/QMEF/tweet_analysis.csv\", sep=\";\", encoding='utf8', parse_dates=['CreatedAt', 'UTC'])\n",
    "df_tweets.drop_duplicates('TweetId', inplace = True)\n",
    "\n",
    "df_tweets['timestamp'] = df_tweets['UTC'].apply(lambda x: x.astype('int')//10**9)\n",
    "df_tweets['timestamp'] = df_tweets['timestamp'] - (df_tweets['timestamp'] % 60) #Abrunden auf Minuten\n",
    "\n",
    "df_tweets = df_tweets[['UTC', 'timestamp', 'Text', 'Favorites', 'Retweets', 'neg', 'neu', 'pos', 'compound']]\n",
    "# df_tweets = df_tweets.merge(df_doge, left_on='Date', right_on='Date')\n",
    "df_tweets_relevant = df_tweets.loc[(df_tweets['Favorites'] >= 500_000) & (df_tweets['Retweets'] >= 50_000)].copy()\n",
    "# df_tweets_relevant = df_tweets.loc[(df_tweets['timestamp'] == 1617272700)].copy()\n",
    "df_tweets_relevant"
   ]
  }
 ],
 "metadata": {
  "language_info": {
   "name": "python"
  },
  "orig_nbformat": 4
 },
 "nbformat": 4,
 "nbformat_minor": 2
}
